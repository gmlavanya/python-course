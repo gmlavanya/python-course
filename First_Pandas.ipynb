{
 "cells": [
  {
   "cell_type": "code",
   "execution_count": 1,
   "id": "25474023-3ce8-4d14-9d60-8c0f178837ef",
   "metadata": {},
   "outputs": [
    {
     "name": "stdout",
     "output_type": "stream",
     "text": [
      "Sequences loaded from FASTA file:\n",
      "ID: seq1, Sequence: ATGCGTACGTA\n",
      "ID: seq2, Sequence: AGTCAGTCAGT\n",
      "ID: seq3, Sequence: GCGTACGATACG\n",
      "GC content of seq1: 45.45%\n",
      "GC content of seq2: 45.45%\n",
      "GC content of seq3: 58.33%\n"
     ]
    },
    {
     "data": {
      "image/png": "[encoded data removed]",
      "text/plain": [
       "<Figure size 800x500 with 1 Axes>"
      ]
     },
     "metadata": {},
     "output_type": "display_data"
    },
    {
     "name": "stdout",
     "output_type": "stream",
     "text": [
      "Subsequence 'ATGC' found in seq1\n",
      "Subsequence 'ATGC' not found in seq2\n",
      "Subsequence 'ATGC' not found in seq3\n"
     ]
    }
   ],
   "source": [
    "# Cell 1: Import necessary libraries\n",
    "import pandas as pd\n",
    "from Bio import SeqIO\n",
    "import matplotlib.pyplot as plt\n",
    "\n",
    "# Cell 2: Reading biological sequence data from a FASTA file\n",
    "# For this example, we will read a simple FASTA file that contains DNA sequences\n",
    "\n",
    "# Sample FASTA data (for demonstration purposes)\n",
    "fasta_data = \"\"\">seq1\n",
    "ATGCGTACGTA\n",
    ">seq2\n",
    "AGTCAGTCAGT\n",
    ">seq3\n",
    "GCGTACGATACG\n",
    "\"\"\"\n",
    "\n",
    "# Writing the sample data to a file (this would typically be a file on disk)\n",
    "with open(\"example_sequences.fasta\", \"w\") as file:\n",
    "    file.write(fasta_data)\n",
    "\n",
    "# Reading the sequences using Biopython's SeqIO\n",
    "sequences = list(SeqIO.parse(\"example_sequences.fasta\", \"fasta\"))\n",
    "print(\"Sequences loaded from FASTA file:\")\n",
    "\n",
    "for seq in sequences:\n",
    "    print(f\"ID: {seq.id}, Sequence: {seq.seq}\")\n",
    "\n",
    "# Cell 3: Analyzing the sequences\n",
    "# Example: Finding GC content of each sequence\n",
    "\n",
    "def calculate_gc_content(seq):\n",
    "    gc_count = sum(1 for base in seq if base in \"GC\")\n",
    "    return gc_count / len(seq) * 100\n",
    "\n",
    "# Calculate GC content for each sequence\n",
    "gc_contents = [calculate_gc_content(seq.seq) for seq in sequences]\n",
    "for seq, gc in zip(sequences, gc_contents):\n",
    "    print(f\"GC content of {seq.id}: {gc:.2f}%\")\n",
    "\n",
    "# Cell 4: Visualizing the GC content\n",
    "plt.figure(figsize=(8, 5))\n",
    "plt.bar([seq.id for seq in sequences], gc_contents, color='green')\n",
    "plt.xlabel('Sequence ID')\n",
    "plt.ylabel('GC Content (%)')\n",
    "plt.title('GC Content of DNA Sequences')\n",
    "plt.show()\n",
    "\n",
    "# Cell 5: Working with sequence data in a DataFrame (using pandas)\n",
    "\n",
    "# Example: Create a DataFrame to store sequence IDs and GC contents\n",
    "df = pd.DataFrame({\n",
    "    'Sequence ID': [seq.id for seq in sequences],\n",
    "    'GC Content (%)': gc_contents\n",
    "})\n",
    "\n",
    "# Display the DataFrame\n",
    "df.head()\n",
    "\n",
    "# Cell 6: Perform a basic search for a subsequence\n",
    "search_subsequence = \"ATGC\"\n",
    "\n",
    "# Search for the subsequence in each sequence\n",
    "for seq in sequences:\n",
    "    if search_subsequence in str(seq.seq):\n",
    "        print(f\"Subsequence '{search_subsequence}' found in {seq.id}\")\n",
    "    else:\n",
    "        print(f\"Subsequence '{search_subsequence}' not found in {seq.id}\")\n"
   ]
  },
  {
   "cell_type": "code",
   "execution_count": null,
   "id": "137b5466-e6d0-4e1d-af20-da6b7512e7f4",
   "metadata": {},
   "outputs": [],
   "source": []
  },
  {
   "cell_type": "code",
   "execution_count": null,
   "id": "d25e3aa4-e2df-41ff-8751-573ee97b139d",
   "metadata": {},
   "outputs": [],
   "source": []
  },
  {
   "cell_type": "code",
   "execution_count": null,
   "id": "5ff5b371-7663-40b8-a290-eafa017efda9",
   "metadata": {},
   "outputs": [],
   "source": []
  }
 ],
 "metadata": {
  "kernelspec": {
   "display_name": "Python 3 (ipykernel)",
   "language": "python",
   "name": "python3"
  },
  "language_info": {
   "codemirror_mode": {
    "name": "ipython",
    "version": 3
   },
   "file_extension": ".py",
   "mimetype": "text/x-python",
   "name": "python",
   "nbconvert_exporter": "python",
   "pygments_lexer": "ipython3",
   "version": "3.12.7"
  }
 },
 "nbformat": 4,
 "nbformat_minor": 5
}
