{
 "cells": [
  {
   "cell_type": "code",
   "execution_count": 6,
   "id": "4267a7a4-239b-4e24-a7b7-7f85949952d0",
   "metadata": {},
   "outputs": [
    {
     "name": "stdout",
     "output_type": "stream",
     "text": [
      "Circle Area Calculator\n"
     ]
    },
    {
     "name": "stdin",
     "output_type": "stream",
     "text": [
      "Enter the radius of the circle:  8\n"
     ]
    },
    {
     "name": "stdout",
     "output_type": "stream",
     "text": [
      "The area of the circle with radius 8.0 is 201.06\n"
     ]
    }
   ],
   "source": [
    "import constants\n",
    "\n",
    "def calculate_circle_area(radius):\n",
    "    \"\"\"Calculate the area of a circle given its radius.\"\"\"\n",
    "    return constants.PI * radius ** 2\n",
    "\n",
    "def main():\n",
    "    print(\"Circle Area Calculator\")\n",
    "    radius = float(input(\"Enter the radius of the circle: \"))\n",
    "    area = calculate_circle_area(radius)\n",
    "    print(f\"The area of the circle with radius {radius} is {area:.2f}\")\n",
    "\n",
    "if __name__ == \"__main__\":\n",
    "    main()\n"
   ]
  },
  {
   "cell_type": "code",
   "execution_count": null,
   "id": "c51a9635-cd4d-45aa-85f0-ca6a02b82179",
   "metadata": {},
   "outputs": [],
   "source": []
  },
  {
   "cell_type": "code",
   "execution_count": null,
   "id": "e0f0b9b8-2398-47b5-bbe9-eadf4de48ab0",
   "metadata": {},
   "outputs": [],
   "source": []
  }
 ],
 "metadata": {
  "kernelspec": {
   "display_name": "Python 3 (ipykernel)",
   "language": "python",
   "name": "python3"
  },
  "language_info": {
   "codemirror_mode": {
    "name": "ipython",
    "version": 3
   },
   "file_extension": ".py",
   "mimetype": "text/x-python",
   "name": "python",
   "nbconvert_exporter": "python",
   "pygments_lexer": "ipython3",
   "version": "3.12.7"
  }
 },
 "nbformat": 4,
 "nbformat_minor": 5
}
